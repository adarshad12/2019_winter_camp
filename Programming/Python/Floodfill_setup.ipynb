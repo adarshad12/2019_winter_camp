{
 "cells": [
  {
   "cell_type": "markdown",
   "metadata": {},
   "source": [
    "### Instructions:\n",
    "- Please rename this file as  \"Floodfill_setup_your_roll_no.ipynb\". eg. Floodfill_setup_170429.ipynb\n",
    "- Only edit at \"### WRITE YOUR CODE HERE\"\n",
    "- Render (Kernel > Restart & Run All) before submitting."
   ]
  },
  {
   "cell_type": "code",
   "execution_count": null,
   "metadata": {},
   "outputs": [],
   "source": [
    "import numpy as np"
   ]
  },
  {
   "cell_type": "markdown",
   "metadata": {},
   "source": [
    "## GENERATE MATRIX"
   ]
  },
  {
   "cell_type": "markdown",
   "metadata": {},
   "source": [
    "Refer: https://drive.google.com/file/d/1_sGJMUmZhKUl-bT_eTWga7QXwIr6hp8E/view?usp=sharing\n"
   ]
  },
  {
   "cell_type": "code",
   "execution_count": null,
   "metadata": {},
   "outputs": [],
   "source": [
    "def generate_matrix(n):\n",
    "    '''\n",
    "    Inputs:\n",
    "        n: even integer, size of the matrix to be printed\n",
    "    Outputs:\n",
    "        A: Required matrix (of integers) of dimension n x n \n",
    "    '''\n",
    "\n",
    "    ### WRITE YOUR CODE HERE\n",
    "    \n",
    "    return A"
   ]
  },
  {
   "cell_type": "code",
   "execution_count": null,
   "metadata": {},
   "outputs": [],
   "source": [
    "# This is how you can test if your code is working fine\n",
    "def test_generate_matrix():\n",
    "    A = generate_matrix(4)\n",
    "    print(A)\n",
    "    assert np.all(np.isclose(A, np.array([[2,1,1,2],[1,0,0,1],[1,0,0,1],[2,1,1,2]])))  # assert that your method returns the correct answer.\n",
    "                               # If not, this statement will give an assertion error.\n",
    "    print('Test passed', '\\U0001F44D')\n",
    "    \n",
    "# Please do not call any function without using \"if __name__==\"__main__\":\" statement. \n",
    "if __name__==\"__main__\":\n",
    "    test_generate_matrix()"
   ]
  },
  {
   "cell_type": "markdown",
   "metadata": {},
   "source": [
    "Print the following matrices and check for yourself"
   ]
  },
  {
   "cell_type": "code",
   "execution_count": null,
   "metadata": {},
   "outputs": [],
   "source": [
    "print(generate_matrix(6))\n",
    "print(generate_matrix(8))"
   ]
  }
 ],
 "metadata": {
  "kernelspec": {
   "display_name": "Python 3",
   "language": "python",
   "name": "python3"
  },
  "language_info": {
   "codemirror_mode": {
    "name": "ipython",
    "version": 3
   },
   "file_extension": ".py",
   "mimetype": "text/x-python",
   "name": "python",
   "nbconvert_exporter": "python",
   "pygments_lexer": "ipython3",
   "version": "3.7.1"
  }
 },
 "nbformat": 4,
 "nbformat_minor": 2
}
