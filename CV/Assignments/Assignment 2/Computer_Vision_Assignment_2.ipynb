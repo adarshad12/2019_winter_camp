{
 "cells": [
  {
   "cell_type": "markdown",
   "metadata": {},
   "source": [
    "Topic: Edge Detection By Laplacians.\n",
    "    \n",
    "Using laplacian of Gaussian is an interesting method to find edges, however not the best. \n",
    "For this assignment, you have to\n",
    "1. calculate a 2D LOG kernel, \n",
    "2. and find edges in the given image using laplacian, choose the threshold value yourself and see the effect on edges as you change the thresh value.\n",
    "\n",
    "For the latter, however, the kernel generated in 1. should not be used.\n",
    "\n",
    "1. An $O(N^{2}*M^{2})$ solution would not be accepted for the edge detection part. Sadly, there is no test case for that.(Thank jupyter notebooks for being so inconsistent when it comes to computation speed.).\n",
    "2. The edge detection part has to be done with an $O(N^{2}*M)$ algorithm. :3\n",
    "3. Write the code in the spaces given.\n",
    "4. Use of cv2 lib functions is forbidden unless mentioned explicitly.\n",
    "\n",
    "P.S. Read the instructions and the code carefully."
   ]
  },
  {
   "cell_type": "code",
   "execution_count": null,
   "metadata": {},
   "outputs": [],
   "source": [
    "import numpy as np\n",
    "import matplotlib.pyplot as plt\n",
    "import cv2\n",
    "\n",
    "img = cv2.imread(\"balloonGrayNoisy.jpg\", 0)\n",
    "imgplot = plt.imshow(img, cmap='gray', vmin=0, vmax=255)\n",
    "plt.show()"
   ]
  },
  {
   "cell_type": "code",
   "execution_count": null,
   "metadata": {},
   "outputs": [],
   "source": [
    "def logGenerator(sigma, size):\n",
    "    '''\n",
    "    Input: Size of the filter required and standard deviation for the gaussian part.\n",
    "    Output: A kernel that calculates the laplacian of gaussian for the image, \n",
    "            and has the required parameters. \n",
    "    '''\n",
    "    \n",
    "    #write your code here\n",
    "    \n",
    "    \n",
    "    \n",
    "    \n",
    "    \n",
    "    #the output should be named kernel.\n",
    "    #I am doing the normalisation part myself\n",
    "    kernel = (kernel/kernel[0][2]).astype(int)\n",
    "    \n",
    "    return kernel"
   ]
  },
  {
   "cell_type": "code",
   "execution_count": null,
   "metadata": {},
   "outputs": [],
   "source": [
    "def LOGEdges(I, size, thresh):\n",
    "    '''\n",
    "    Input: Image I, size of the kernel, \n",
    "    Output: Convolve the image and output the result you get after thresholding.\n",
    "            Choose the threshold value you think is the most appropriate.\n",
    "            \n",
    "    You can use the function cv2.filter2D for the convolution \n",
    "    part and cv2.threshold for the thresholding part.\n",
    "    \n",
    "    Goes without saying that you gotta read their documentation first :p.\n",
    "    '''\n",
    "    \n",
    "    edges = np.zeros(I.shape, np.uint8)   #this has to be the output image\n",
    "    #write your code here\n",
    "    \n",
    "    \n",
    "    \n",
    "    \n",
    "    \n",
    "    \n",
    "    \n",
    "    resultplot = plt.imshow(edges, cmap='gray', vmin=0, vmax=255)\n",
    "    plt.show()\n",
    "    \n",
    "    return edges"
   ]
  },
  {
   "cell_type": "code",
   "execution_count": null,
   "metadata": {},
   "outputs": [],
   "source": [
    "def evaluate():\n",
    "    #DO NOT MAKE ANY CHANGE TO THIS FUNCTION UNLESS ASKED TO.\n",
    "    \n",
    "    K = logGenerator(1.4, 9)\n",
    "    th =  5            #INPUT the thresh value you want to use for thresholding the zero crossings.\n",
    "    res = LOGEdges(img, 5,th) \n",
    "    print(K)        #the LOG kernel\n",
    "    \n",
    "    #this is the most accurate edge detection algorithm available, canny edge detection.\n",
    "    #compare your convolution result with this. How can you make your algo more robust?\n",
    "    I = cv2.GaussianBlur(img, (5,5), 0)\n",
    "    canny = cv2.Canny(I, 70, 140)\n",
    "    exapleplot = plt.imshow(canny, cmap='gray', vmin=0, vmax=255)\n",
    "    plt.show()\n",
    "    \n",
    "    assert(np.all(np.isclose(K, np.array([[  0,   0,   1,   1,   2,   1,   1,   0,   0],\n",
    "                                          [  0,   1,   3,   4,   5,   4,   3,   1,   0],\n",
    "                                          [  1,   3,   5,   3,   0,   3,   5,   3,   1],\n",
    "                                          [  1,   4,   3, -11, -23, -11,   3,   4,   1],\n",
    "                                          [  2,   5,   0, -23, -40, -23,   0,   5,   2],\n",
    "                                          [  1,   4,   3, -11, -23, -11,   3,   4,   1],\n",
    "                                          [  1,   3,   5,   3,   0,   3,   5,   3,   1],\n",
    "                                          [  0,   1,   3,   4,   5,   4,   3,   1,   0],\n",
    "                                          [  0,   0,   1,   1,   2,   1,   1,   0,   0]]), atol=1)))\n",
    "    \n",
    "    print('Test Case Passed', '\\U0001F44D')\n",
    "    \n",
    "if __name__ == \"__main__\":\n",
    "    evaluate()"
   ]
  }
 ],
 "metadata": {
  "kernelspec": {
   "display_name": "Python 3",
   "language": "python",
   "name": "python3"
  },
  "language_info": {
   "codemirror_mode": {
    "name": "ipython",
    "version": 3
   },
   "file_extension": ".py",
   "mimetype": "text/x-python",
   "name": "python",
   "nbconvert_exporter": "python",
   "pygments_lexer": "ipython3",
   "version": "3.6.9"
  }
 },
 "nbformat": 4,
 "nbformat_minor": 2
}
