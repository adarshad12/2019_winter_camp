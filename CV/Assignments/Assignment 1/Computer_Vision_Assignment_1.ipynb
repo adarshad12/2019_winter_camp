{
  "cells": [
    {
      "metadata": {},
      "cell_type": "markdown",
      "source": "ASSIGNMENT 1: BLURRING\n\nOkay guys and gals so the task at hand is to remove noise from the given image.\nFor that, you gotta do 3 things:\n1. Prepare a kernel.\n2. Perform convolution on the image with this kernel.\n3. Display the result and compare the input and output images.\n\nFor doing that, I am not allowing the use of any inbuilt functions for convolution.\nSo you gotta:\n1. Write a function that convolves the input image with the kernel given as the other input.\n2. Write a function that generates that kernel.\n\nYou can, however use the inbuilt functions from opencv to apply padding to the image.(Remember the layer of 0's on the boundary, that's one way to pad).\nBut for that, first find such functions and learn to use them :p.\nKeep the image file in the same folder as the jupyter notebook.\n\nEnjoy. \n\nP.S. Ignoring the Instructions can turn out bad. :)"
    },
    {
      "metadata": {
        "trusted": true
      },
      "cell_type": "code",
      "source": "import numpy as np\nimport cv2\nimport matplotlib.pyplot as plt\nimport matplotlib.image as pltimg\n\nI = cv2.imread(\"balloonGrayNoisy.jpg\", 0)\n\nprint (\"Image with Noise\") #well, did I write noice in the class xD\nimggplot = plt.imshow(I, cmap='gray', vmin=0, vmax=255)\nplt.show()\n\ntestcases = [False, False, False]",
      "execution_count": null,
      "outputs": []
    },
    {
      "metadata": {
        "trusted": true
      },
      "cell_type": "code",
      "source": "def convolution(I, H):\n    '''\n    Input: Test Image I, Kernel H\n    Output: processed Image Q\n    '''\n    #write your code here.\n    \n    \n    \n    return Q",
      "execution_count": null,
      "outputs": []
    },
    {
      "metadata": {
        "trusted": true
      },
      "cell_type": "code",
      "source": "def gen_average_kernel(size):\n    '''\n    Input: size of kernel, \n    Output: desired kernel H\n    '''\n    \n    # write your code here\n    # Nothing to explain, generate the plain old averaging kernel\n    # AND NAME IT H\n    \n    \n    \n    return H",
      "execution_count": null,
      "outputs": []
    },
    {
      "metadata": {
        "trusted": true
      },
      "cell_type": "code",
      "source": "def gen_gaussian_kernel(sigma, size):\n    '''\n    Input: parameter 'sigma' and size of the required kernel\n    Output: desired kernel H, DO NOT forget to normalise the kernel\n            If you don't remember the Gaussian Function, google it. \n    '''\n    #write your code here. (return the kernel generated)\n    #name it H.\n    \n    \n    \n    return H #put the name of the kernel here.",
      "execution_count": null,
      "outputs": []
    },
    {
      "metadata": {
        "trusted": true
      },
      "cell_type": "code",
      "source": "# This is how you can test if your code is working fine\n# DO NOT MAKE ANY CHANGES TO THIS PIECE OF CODE.\n# OR ANY OTHER TEST CASE.\ndef test_case1(): \n    H1 = gen_average_kernel(5)  \n    print(H1)\n    Q1 = convolution(I, H1)\n    \n    imggplot = plt.imshow(Q1, cmap='gray', vmin=0, vmax=255)\n    plt.show()\n    \n    assert np.all(np.isclose(H1, np.array([[0.04, 0.04, 0.04, 0.04, 0.04],\n                                           [0.04, 0.04, 0.04, 0.04, 0.04],\n                                           [0.04, 0.04, 0.04, 0.04, 0.04],\n                                           [0.04, 0.04, 0.04, 0.04, 0.04],\n                                           [0.04, 0.04, 0.04, 0.04, 0.04]])))  # assert that your method returns the correct answer.\n    testcases[0] = True\n    print('Test case 1 passed', '\\U0001F44D\\n')\n    \n                                                # If not, this statement will give an assertion error.",
      "execution_count": null,
      "outputs": []
    },
    {
      "metadata": {
        "trusted": true
      },
      "cell_type": "code",
      "source": "def test_case2():\n    H2 = gen_average_kernel(3)    \n    Q2 = convolution(I, H2)\n    print(H2)\n    imggplot = plt.imshow(Q2, cmap='gray', vmin=0, vmax=255)\n    plt.show()\n    \n    assert np.all(np.isclose(H2, np.array([[0.11111111, 0.11111111, 0.11111111],\n                                           [0.11111111, 0.11111111, 0.11111111],\n                                           [0.11111111, 0.11111111, 0.11111111]])))\n    \n    testcases[1] = True\n    print('Test case 2 passed', '\\U0001F44D\\n') \n    ",
      "execution_count": null,
      "outputs": []
    },
    {
      "metadata": {
        "trusted": true
      },
      "cell_type": "code",
      "source": "def test_case3(): \n    G1 = gen_gaussian_kernel(1, 5)\n    Q3 = convolution(I, G1.astype(np.float32)/np.sum(G1))\n    print(G1)\n    imggplot = plt.imshow(Q3, cmap='gray', vmin=0, vmax=255)\n    plt.show()\n    \n    assert np.all(np.isclose(G1, np.array([[ 1,  4,  7,  4,  1],\n                                           [ 4, 20, 33, 20,  4],\n                                           [ 7, 33, 54, 33,  7],\n                                           [ 4, 20, 33, 20,  4],\n                                           [ 1,  4,  7,  4,  1]])))\n    \n    testcases[2] = True\n    print('Test case 3 passed')\n    ",
      "execution_count": null,
      "outputs": []
    },
    {
      "metadata": {
        "trusted": true
      },
      "cell_type": "code",
      "source": "def evaluate():\n    test_case1()\n    test_case2()\n    test_case3()\n\n    passed = True\n    for i in range(0, 3):\n        passed = passed and testcases[i]\n        \n    if passed:\n        print('congrats, all test cases passed', '\\U0001F44D')\n        \n    # Please do not call any function without using \"if __name__==\"__main__\":\" statement. \n    # DO NOT MAKE ANY CHANGES HERE EITHER.\nif __name__==\"__main__\":\n    evaluate()",
      "execution_count": null,
      "outputs": []
    },
    {
      "metadata": {},
      "cell_type": "markdown",
      "source": "AUTHORS: PARAS MITTAL, SIDDHANT CHANDAK"
    },
    {
      "metadata": {},
      "cell_type": "markdown",
      "source": "Contact Us on: Paras Mittal: 9813513036\n               Siddhant Chandak: 7978546718"
    }
  ],
  "metadata": {
    "kernelspec": {
      "name": "python3",
      "display_name": "Python 3",
      "language": "python"
    },
    "language_info": {
      "mimetype": "text/x-python",
      "nbconvert_exporter": "python",
      "name": "python",
      "pygments_lexer": "ipython3",
      "version": "3.5.4",
      "file_extension": ".py",
      "codemirror_mode": {
        "version": 3,
        "name": "ipython"
      }
    }
  },
  "nbformat": 4,
  "nbformat_minor": 2
}