{
 "cells": [
  {
   "cell_type": "markdown",
   "metadata": {},
   "source": []
  },
  {
   "cell_type": "code",
   "execution_count": 2,
   "metadata": {},
   "outputs": [
    {
     "data": {
      "image/png": "[encoded data removed]",
      "text/plain": [
       "<matplotlib.figure.Figure at 0x7fd938fe8e10>"
      ]
     },
     "metadata": {
      "needs_background": "light"
     },
     "output_type": "display_data"
    }
   ],
   "source": [
    "import matplotlib.pyplot as plt\n",
    "import matplotlib.image as pltimg\n",
    "import numpy as np\n",
    "import cv2\n",
    "\n",
    "img = cv2.imread(\"fillerExample.png\")\n",
    "imgplot = plt.imshow(img)\n",
    "plt.show()\n",
    "\n",
    "#Due to some reason the blue region of the image \n",
    "#might appear to be red, while yellow region appears to be blue\n",
    "#ignore that issue, that won't affect your code."
   ]
  },
  {
   "cell_type": "code",
   "execution_count": null,
   "metadata": {},
   "outputs": [],
   "source": [
    "def imageMap(I):\n",
    "    '''\n",
    "    Map the color matrix in the input image to a matrix of 0's and 1's. \n",
    "    The 1's represent the blue squares while the 0's represent the yellow squares.\n",
    "    You will need this matrix later.\n",
    "    Name of the output matrix is M\n",
    "    '''\n",
    "    \n",
    "    \n",
    "    \n",
    "    return M"
   ]
  },
  {
   "cell_type": "code",
   "execution_count": null,
   "metadata": {},
   "outputs": [],
   "source": [
    "def findShortestPath(Map):\n",
    "    '''\n",
    "    Using the map developed earlier, find the shortest path from the \n",
    "    top left vertex to the bottom right vertex. Output the length of this path.\n",
    "    1. The path should only go through ones.\n",
    "    2. Movement is only allowed through edges, i.e. No diagonal moves.\n",
    "    '''\n",
    "    \n",
    "    \n",
    "    return length"
   ]
  },
  {
   "cell_type": "code",
   "execution_count": null,
   "metadata": {},
   "outputs": [],
   "source": [
    "def evaluate():\n",
    "    Map = imageMap(img)\n",
    "    path = findShortestPath(Map)\n",
    "    \n",
    "    assert np.isclose(Map, np.array([[1,1,0,1,0,1,1,1],\n",
    "                                     [0,1,0,0,0,1,0,1],\n",
    "                                     [1,1,1,0,1,1,1,1],\n",
    "                                     [0,0,1,1,1,1,0,1],\n",
    "                                     [0,1,0,1,0,1,1,1],\n",
    "                                     [1,0,0,1,1,1,0,1],\n",
    "                                     [0,0,1,1,0,1,1,1],\n",
    "                                     [1,1,0,1,1,0,1,1]]))\n",
    "    \n",
    "    print('Test Case Passed')\n",
    "    \n",
    "    length = findShortestPath(Map)\n",
    "    \n",
    "    assert(length == 15)\n",
    "    print('Test Case Passed')\n",
    "    \n",
    "    print('All Test Cases Passed', '\\U0001F44D')"
   ]
  }
 ],
 "metadata": {
  "kernelspec": {
   "display_name": "Python 3",
   "language": "python",
   "name": "python3"
  },
  "language_info": {
   "codemirror_mode": {
    "name": "ipython",
    "version": 3
   },
   "file_extension": ".py",
   "mimetype": "text/x-python",
   "name": "python",
   "nbconvert_exporter": "python",
   "pygments_lexer": "ipython3",
   "version": "3.6.9"
  }
 },
 "nbformat": 4,
 "nbformat_minor": 2
}
